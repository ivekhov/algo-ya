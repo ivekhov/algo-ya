{
 "cells": [
  {
   "cell_type": "markdown",
   "id": "8d829eb4-6f5c-48d4-86a9-b5677bf677a7",
   "metadata": {},
   "source": [
    "# Tasks\n",
    "\n",
    "https://contest.yandex.ru/contest/22449/problems/?nc=ssfZkaKU"
   ]
  },
  {
   "cell_type": "code",
   "execution_count": null,
   "id": "2f992dc9-cb71-4a97-a0cc-83fbdb6abb72",
   "metadata": {
    "editable": true,
    "slideshow": {
     "slide_type": ""
    },
    "tags": []
   },
   "outputs": [],
   "source": []
  },
  {
   "cell_type": "code",
   "execution_count": null,
   "id": "0dbc7fc2-3164-4264-a209-324a914b5d86",
   "metadata": {
    "editable": true,
    "slideshow": {
     "slide_type": ""
    },
    "tags": []
   },
   "outputs": [],
   "source": []
  }
 ],
 "metadata": {
  "kernelspec": {
   "display_name": "Python 3 (ipykernel)",
   "language": "python",
   "name": "python3"
  },
  "language_info": {
   "codemirror_mode": {
    "name": "ipython",
    "version": 3
   },
   "file_extension": ".py",
   "mimetype": "text/x-python",
   "name": "python",
   "nbconvert_exporter": "python",
   "pygments_lexer": "ipython3",
   "version": "3.10.12"
  }
 },
 "nbformat": 4,
 "nbformat_minor": 5
}
